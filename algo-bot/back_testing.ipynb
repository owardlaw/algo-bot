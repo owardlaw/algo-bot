{
 "cells": [
  {
   "cell_type": "code",
   "execution_count": 35,
   "id": "8bd5dd4f-8e75-4a34-9e27-056db2840c8f",
   "metadata": {
    "tags": []
   },
   "outputs": [],
   "source": [
    "import pandas as pd\n",
    "import talib\n",
    "import hvplot.pandas \n",
    "import matplotlib.pyplot as plt\n",
    "%matplotlib inline\n",
    "from sklearn.model_selection import train_test_split\n",
    "from sklearn.linear_model import LinearRegression\n",
    "import numpy as np\n"
   ]
  },
  {
   "cell_type": "code",
   "execution_count": 36,
   "id": "e790bb1e-e89b-458f-a607-a0ab35f121b4",
   "metadata": {},
   "outputs": [],
   "source": [
    "#Acessing CSV information and creating close dataframes \n",
    "\n",
    "# Reading CSVs\n",
    "df_btc = pd.read_csv('closes/2yr_btc.csv')\n",
    "df_eth = pd.read_csv('closes/2yr_eth.csv')\n",
    "\n",
    "# Volume \n",
    "btc_vol = df_btc[\"volume\"]\n",
    "eth_vol = df_eth[\"volume\"]\n",
    "\n",
    "# Closes\n",
    "btc_close = df_btc[\"close\"]\n",
    "eth_close = df_eth[\"close\"]\n",
    "\n"
   ]
  },
  {
   "cell_type": "code",
   "execution_count": 37,
   "id": "a650500c-6494-4985-b673-86f7c66f1dc6",
   "metadata": {},
   "outputs": [],
   "source": [
    "# Define two testing coins to be used below\n",
    "\n",
    "# Closes\n",
    "coin_1 = btc_close\n",
    "coin_2 = eth_close\n",
    "\n",
    "# Volume \n",
    "coin_1_vol = btc_vol\n",
    "coin_2_vol = eth_vol\n",
    "\n",
    "\n",
    "# Volume sma \n",
    "coin_1_vol_sma = coin_1_vol.rolling(20).mean()\n",
    "coin_2_vol_sma = coin_2_vol.rolling(20).mean()\n"
   ]
  },
  {
   "cell_type": "code",
   "execution_count": 38,
   "id": "c3a78cb7-54f2-4dc8-96bb-4f3dac6bd53a",
   "metadata": {
    "tags": []
   },
   "outputs": [
    {
     "data": {
      "text/plain": [
       "0.5900171302792976"
      ]
     },
     "execution_count": 38,
     "metadata": {},
     "output_type": "execute_result"
    }
   ],
   "source": [
    "# Overall percent change oscilator score for entire DF\n",
    "def cor(ws, coin_1, coin_2): \n",
    "    \n",
    "    \n",
    "    # coin 1\n",
    "    \n",
    "    c = []\n",
    "    for i in range(len(coin_1[100:])-200):\n",
    "        c.append(coin_1[i+200] - coin_1[i+100])\n",
    "\n",
    "    h = coin_1.rolling(window = ws).max()\n",
    "    l = coin_1.rolling(window = ws).min()\n",
    "\n",
    "    range_1 = h - l\n",
    "    p = (c /range_1[0:len(coin_1)-300])*100\n",
    "\n",
    "    \n",
    "    # coin 2\n",
    "\n",
    "    ce = []\n",
    "    for i in range(len(coin_2[100:])-200):\n",
    "        ce.append(coin_2[i+200] - coin_2[i+100])\n",
    "\n",
    "\n",
    "    he = coin_2.rolling(window = ws).max()\n",
    "    le = coin_2.rolling(window = ws).min()\n",
    "\n",
    "    range_1e = he - le\n",
    "    pe = (ce /range_1e[0:len(coin_2)-300])*100\n",
    "\n",
    "    X = np.array(p[ws:])\n",
    "    y = np.array(pe[ws:])\n",
    "\n",
    "    X_train, X_test, y_train, y_test = train_test_split(X,y,test_size=0.2)\n",
    "\n",
    "    clf = LinearRegression()\n",
    "\n",
    "\n",
    "    X_train =X_train.reshape(-1, 1)\n",
    "    y_train =y_train.reshape(-1, 1)\n",
    "    X_test = X_test.reshape(-1, 1)\n",
    "    y_test = y_test.reshape(-1, 1)\n",
    "    clf.fit(X_train, y_train)\n",
    "\n",
    "    clf.predict(X_test)\n",
    "\n",
    "    clf.score(X_test, y_test)\n",
    "\n",
    "    return clf.score(X_test, y_test)\n",
    "\n",
    "cor(100, coin_1, coin_2)"
   ]
  },
  {
   "cell_type": "code",
   "execution_count": 39,
   "id": "1a41bf44-9b8e-4aaa-bd04-f9b1b00aecdc",
   "metadata": {},
   "outputs": [
    {
     "data": {
      "text/plain": [
       "0.8167570328285517"
      ]
     },
     "execution_count": 39,
     "metadata": {},
     "output_type": "execute_result"
    }
   ],
   "source": [
    "# Over all: close correlation score of closes in DF\n",
    "def close_cor(coin_1, coin_2):   \n",
    "    X = np.array(coin_1)\n",
    "    y = np.array(coin_2)\n",
    "\n",
    "    X_train, X_test, y_train, y_test = train_test_split(X,y,test_size=0.2)\n",
    "\n",
    "    clf = LinearRegression()\n",
    "\n",
    "\n",
    "    X_train = X_train.reshape(-1, 1)\n",
    "    y_train = y_train.reshape(-1, 1)\n",
    "    X_test = X_test.reshape(-1, 1)\n",
    "    y_test = y_test.reshape(-1, 1)\n",
    "    clf.fit(X_train, y_train)\n",
    "\n",
    "    clf.predict(X_test)\n",
    "\n",
    "    clf.score(X_test, y_test)\n",
    "    \n",
    "    return clf.score(X_test, y_test)\n",
    "\n",
    "close_cor(coin_1, coin_2)"
   ]
  },
  {
   "cell_type": "code",
   "execution_count": 40,
   "id": "b5b5d3eb-c121-4477-829e-019a61a97fd3",
   "metadata": {},
   "outputs": [],
   "source": [
    "# Create percent change oscilator as variable \n",
    "\n",
    "# Window Size\n",
    "ws = 100\n",
    "\n",
    "# Coin 1 \n",
    "c = []\n",
    "for i in range(len(coin_1)-ws):\n",
    "    c.append(coin_1[i+ws] - coin_1[i])\n",
    "\n",
    "\n",
    "h = coin_1.rolling(window = ws).max()\n",
    "l = coin_1.rolling(window = ws).min()\n",
    "\n",
    "range_1 = h - l\n",
    "p = (c /range_1[0:len(c)])*100\n",
    "\n",
    "# Coin 2\n",
    "\n",
    "ce = []\n",
    "for i in range(len(coin_2)-ws):\n",
    "    ce.append(coin_2[i+ws] - coin_2[i])\n",
    "\n",
    "\n",
    "he = coin_2.rolling(window = ws).max()\n",
    "le = coin_2.rolling(window = ws).min()\n",
    "\n",
    "range_1e = he - le\n",
    "pe = (ce /range_1e[0:len(ce)])*100"
   ]
  },
  {
   "cell_type": "code",
   "execution_count": 41,
   "id": "6ef76a1c-d8cc-443f-b488-95fdbabd4afc",
   "metadata": {},
   "outputs": [],
   "source": [
    "# Correlation function to be used in backtesting\n",
    "\n",
    "def cor(look_ahead):\n",
    "\n",
    "    X = np.array(p[look_ahead - 100: look_ahead])\n",
    "    y = np.array(pe[look_ahead - 100 : look_ahead])\n",
    "\n",
    "    X_train, X_test, y_train, y_test = train_test_split(X,y,test_size=0.4)\n",
    "\n",
    "    clf = LinearRegression()\n",
    "\n",
    "\n",
    "    X_train = X_train.reshape(-1, 1)\n",
    "    y_train = y_train.reshape(-1, 1)\n",
    "    X_test = X_test.reshape(-1, 1)\n",
    "    y_test = y_test.reshape(-1, 1)\n",
    "    clf.fit(X_train, y_train)\n",
    "\n",
    "    clf.predict(X_test)\n",
    "\n",
    "    clf.score(X_test, y_test)\n",
    "    \n",
    "    return clf.score(X_test, y_test)\n",
    "\n",
    "    "
   ]
  },
  {
   "cell_type": "code",
   "execution_count": 42,
   "id": "7ca2b943-7cf1-4738-8df3-648611ec1f6f",
   "metadata": {},
   "outputs": [],
   "source": [
    "# Backtesting variables\n",
    "\n",
    "# MACD calculation, using standard inputs \n",
    "fast_ema_value = 12 \n",
    "slow_ema_value = 26\n",
    "signal_smoothing = 9\n",
    "\n",
    "#EMA for MACD\n",
    "ema_12 = talib.EMA(coin_2, fast_ema_value)\n",
    "ema_26 = talib.EMA(coin_2, slow_ema_value)\n",
    "\n",
    "\n",
    "# MACD\n",
    "macd = ema_12 - ema_26\n",
    "\n",
    "# Signal\n",
    "signal_9 = talib.EMA(macd, signal_smoothing)\n",
    "\n",
    "# Histogram\n",
    "hist = macd - signal_9\n",
    "\n",
    "# USD usage per trade \n",
    "\n",
    "USD = 100000 "
   ]
  },
  {
   "cell_type": "code",
   "execution_count": 43,
   "id": "2b43dfc9-6cc2-41e7-a1ec-b75a693c4303",
   "metadata": {
    "tags": []
   },
   "outputs": [],
   "source": [
    "# Backtesting long trades\n",
    "def long_backtest():\n",
    "\n",
    "    # Defining variables for backtesting\n",
    "\n",
    "    start = 200\n",
    "    la = start + 1\n",
    "\n",
    "    # Capturing entries and exits\n",
    "    entry = []\n",
    "    exit = []\n",
    "\n",
    "    p_spread_long = []\n",
    "\n",
    "    index_count = 0\n",
    "\n",
    "    in_trade = 0\n",
    "\n",
    "    # Iterating through coin df to track trades\n",
    "    for i in range(len(coin_2[start:])-start):\n",
    "\n",
    "\n",
    "        if macd[i+start] > signal_9[i+start] and macd[i+la] < signal_9[i+la] and macd[i+la] < 0  and cor(i + start) < 0.7 and coin_2_vol_sma[i +start] < coin_2_vol[i +start] and p[i + start] < pe[i + start]: \n",
    "                if in_trade == 0:\n",
    "\n",
    "                    entry.append(coin_2[i+start])\n",
    "                    in_trade = 1\n",
    "\n",
    "        if macd[i+start] < signal_9[i+start] and macd[i+la] > signal_9[i+la] and macd[i+la] > 0:\n",
    "\n",
    "                if in_trade == 1:\n",
    "\n",
    "                    exit.append(coin_2[i+la])\n",
    "                    in_trade = 0\n",
    "\n",
    "\n",
    "    # Calculate long profit as a percentage               \n",
    "\n",
    "    perc_delta =[]\n",
    "    for i in range(len(entry)-1):\n",
    "\n",
    "        perc_delta.append((exit[i] - entry[i])/entry[i])\n",
    "\n",
    "    df_profit_long = pd.DataFrame(perc_delta)*USD\n",
    "    \n",
    "    return df_profit_long\n"
   ]
  },
  {
   "cell_type": "code",
   "execution_count": 44,
   "id": "0d5a1c76-3051-4a32-a728-ed68589aae58",
   "metadata": {},
   "outputs": [],
   "source": [
    "# Backtesting short trades\n",
    "def short_backtest():\n",
    "\n",
    "    # Capturing entries and exits\n",
    "    entrys = []\n",
    "    exits = []\n",
    "\n",
    "    p_spread_long = []\n",
    "\n",
    "    index_count = 0\n",
    "\n",
    "    start = 200\n",
    "    la = start + 1\n",
    "\n",
    "    in_trade = 0\n",
    "\n",
    "    # Iterating through coin close dataframe to track trades\n",
    "\n",
    "    for i in range(len(coin_2[start:])-start):\n",
    "\n",
    "        if macd[i+start] > signal_9[i+start] and macd[i+la] < signal_9[i+la] and macd[i+la] > 5  and cor(i + start) > 0.5 and coin_2_vol_sma[i +start] > coin_2_vol[i +start] and p[i + start] > pe[i + start]:\n",
    "                if in_trade == 0:\n",
    "\n",
    "                    entrys.append(coin_2[i+la])\n",
    "                    in_trade = 1\n",
    "\n",
    "        if macd[i+start] > signal_9[i+start] and macd[i+la] < signal_9[i+la] and macd[i+la] < 0 :\n",
    "\n",
    "                if in_trade == 1:\n",
    "\n",
    "                    exits.append(coin_2[i+la])\n",
    "                    in_trade = 0\n",
    "\n",
    "\n",
    "    # Calculate short profit                 \n",
    "\n",
    "    perc_delta_shorts_list =[]\n",
    "    for i in range(len(entrys)-1):\n",
    "\n",
    "        perc_delta_shorts_list.append((exits[i] - entrys[i])/entrys[i])\n",
    "\n",
    "\n",
    "    df_profits_short = pd.DataFrame(perc_delta_shorts_list)*-USD\n",
    "    \n",
    "    return df_profits_short"
   ]
  },
  {
   "cell_type": "code",
   "execution_count": 45,
   "id": "9743dfa9-74d4-4164-a68c-632b77ca49e9",
   "metadata": {},
   "outputs": [],
   "source": [
    "# Saving backtesting function as variable \n",
    "\n",
    "longs = long_backtest()\n",
    "shorts = short_backtest()\n"
   ]
  },
  {
   "cell_type": "code",
   "execution_count": 46,
   "id": "9985a997-3be7-4f6e-baf2-4cc309b7a4d9",
   "metadata": {},
   "outputs": [],
   "source": [
    "# Correcting issues in dataframe lengths in order to add them together\n",
    "\n",
    "if len(shorts) > len(longs): \n",
    "\n",
    "    Dif = len(shorts) - len(longs)\n",
    "\n",
    "    added = []\n",
    "    for i in range(Dif+1):\n",
    "\n",
    "        added.append(0)\n",
    "\n",
    "\n",
    "    added_df = pd.DataFrame(added)\n",
    "\n",
    "    fixed_longs = longs.append(added_df, ignore_index=True)\n",
    "\n",
    "    total_profit = (shorts + fixed_longs).dropna()\n",
    "\n",
    "elif len(longs) > len(shorts):\n",
    "    \n",
    "    Dif = len(longs) - len(shorts)\n",
    "\n",
    "    added = []\n",
    "    for i in range(Dif+1):\n",
    "\n",
    "        added.append(0)\n",
    "\n",
    "\n",
    "    added_df = pd.DataFrame(added)\n",
    "\n",
    "    fixed_shorts = shorts.append(added_df, ignore_index=True)\n",
    "\n",
    "    total_profit = (longs + fixed_shorts).dropna()"
   ]
  },
  {
   "cell_type": "code",
   "execution_count": 47,
   "id": "8f6fa5de-9c2f-4256-aa87-ac5c0db2ef4f",
   "metadata": {
    "tags": []
   },
   "outputs": [
    {
     "data": {
      "text/plain": [
       "<AxesSubplot:title={'center':'PNL Longs'}>"
      ]
     },
     "execution_count": 47,
     "metadata": {},
     "output_type": "execute_result"
    },
    {
     "data": {
      "image/png": "[encoded data removed]",
      "text/plain": [
       "<Figure size 1152x288 with 1 Axes>"
      ]
     },
     "metadata": {
      "needs_background": "light"
     },
     "output_type": "display_data"
    }
   ],
   "source": [
    "# Displaying cumsum profit PNL graph for longs\n",
    "\n",
    "longs.cumsum().plot(figsize = (16,4), title=\"PNL Longs\")\n"
   ]
  },
  {
   "cell_type": "code",
   "execution_count": 48,
   "id": "d85aec07-600d-43ab-bc38-4bb35ae0e27c",
   "metadata": {
    "tags": []
   },
   "outputs": [
    {
     "data": {
      "text/plain": [
       "<AxesSubplot:title={'center':'PNL Shorts'}>"
      ]
     },
     "execution_count": 48,
     "metadata": {},
     "output_type": "execute_result"
    },
    {
     "data": {
      "image/png": "[encoded data removed]",
      "text/plain": [
       "<Figure size 1152x288 with 1 Axes>"
      ]
     },
     "metadata": {
      "needs_background": "light"
     },
     "output_type": "display_data"
    }
   ],
   "source": [
    "# Displaying cumsum profit PNL graph for short\n",
    "shorts.cumsum().plot(figsize = (16,4), title=\"PNL Shorts\")"
   ]
  },
  {
   "cell_type": "code",
   "execution_count": 53,
   "id": "031449be-310c-4829-bff3-7be86ca4367e",
   "metadata": {
    "jupyter": {
     "source_hidden": true
    },
    "tags": []
   },
   "outputs": [
    {
     "data": {
      "text/plain": [
       "'Coin 2 - 5m Trading Results'"
      ]
     },
     "metadata": {},
     "output_type": "display_data"
    },
    {
     "data": {
      "text/plain": [
       "'Account size $100000 --> $271602.59'"
      ]
     },
     "metadata": {},
     "output_type": "display_data"
    },
    {
     "data": {
      "text/plain": [
       "'------------------------------------'"
      ]
     },
     "metadata": {},
     "output_type": "display_data"
    },
    {
     "data": {
      "text/plain": [
       "'GOA 171.6%.'"
      ]
     },
     "metadata": {},
     "output_type": "display_data"
    },
    {
     "data": {
      "text/plain": [
       "'PNL $171602.59.'"
      ]
     },
     "metadata": {},
     "output_type": "display_data"
    },
    {
     "data": {
      "text/plain": [
       "'Avg trade $467.58.'"
      ]
     },
     "metadata": {},
     "output_type": "display_data"
    },
    {
     "data": {
      "text/plain": [
       "'Total trade count 367.'"
      ]
     },
     "metadata": {},
     "output_type": "display_data"
    },
    {
     "data": {
      "image/png": "[encoded data removed]",
      "text/plain": [
       "<Figure size 1152x288 with 1 Axes>"
      ]
     },
     "metadata": {
      "needs_background": "light"
     },
     "output_type": "display_data"
    },
    {
     "data": {
      "image/png": "[encoded data removed]",
      "text/plain": [
       "<Figure size 1152x288 with 1 Axes>"
      ]
     },
     "metadata": {
      "needs_background": "light"
     },
     "output_type": "display_data"
    }
   ],
   "source": [
    "# Plotting closes of trading period and a plot of the PNL to compare\n",
    "\n",
    "coin_2.plot(y = \"close\", use_index = True, figsize = (16,4), xlabel = \"Close Index\", ylabel = \"Price\", label = \"Coin 2\", \n",
    "            title=\"Coin 2 - 5m Close\")\n",
    "    \n",
    "total_profit.cumsum().plot(use_index = True, figsize = (16,4), xlabel = \"Trades\", ylabel = \"PNL\", label = \"PNL\", \n",
    "            title=\"PNL long/short\")\n",
    "\n",
    "# Trading data\n",
    "\n",
    "display(\"Coin 2 - 5m Trading Results\")\n",
    "display(f\"Account size ${USD} --> ${round(USD + float((shorts.sum() + longs.sum())),2)}\")\n",
    "\n",
    "display(\"------------------------------------\")\n",
    "\n",
    "display((f\"GOA {round(float((((((shorts.sum() + longs.sum()).sum() + USD) - USD)/USD))*100),2)}%.\"))\n",
    "display(f\"PNL ${round(float(shorts.sum() + longs.sum()),2)}.\")\n",
    "display(f\"Avg trade ${round(float((shorts.sum() + longs.sum())/(len(shorts) + len(longs))),2)}.\")\n",
    "display(f\"Total trade count {len(shorts) + len(longs)}.\")"
   ]
  },
  {
   "cell_type": "code",
   "execution_count": null,
   "id": "41c13dd2-2b7f-4cbc-8c8b-5815af9fb8fe",
   "metadata": {},
   "outputs": [],
   "source": []
  }
 ],
 "metadata": {
  "kernelspec": {
   "display_name": "Python 3 (ipykernel)",
   "language": "python",
   "name": "python3"
  },
  "language_info": {
   "codemirror_mode": {
    "name": "ipython",
    "version": 3
   },
   "file_extension": ".py",
   "mimetype": "text/x-python",
   "name": "python",
   "nbconvert_exporter": "python",
   "pygments_lexer": "ipython3",
   "version": "3.10.0"
  }
 },
 "nbformat": 4,
 "nbformat_minor": 5
}
