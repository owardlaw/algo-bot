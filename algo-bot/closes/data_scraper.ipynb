{
 "cells": [
  {
   "cell_type": "code",
   "execution_count": 2,
   "id": "1423255b-0bcf-4b0a-a50d-c7f1159302d0",
   "metadata": {},
   "outputs": [],
   "source": [
    "import requests\n",
    "import json\n",
    "import pandas as pd\n",
    "import datetime as dt\n",
    "import hvplot\n"
   ]
  },
  {
   "cell_type": "code",
   "execution_count": 3,
   "id": "dd886208-a9c6-4253-b603-136feb4b312a",
   "metadata": {},
   "outputs": [],
   "source": [
    "# Function to call API and return OHLC data\n",
    "\n",
    "def get_bars(symbol, interval, startTime, endTime, limit):\n",
    "    \n",
    "    url = \"https://api.binance.com/api/v3/klines\"\n",
    "\n",
    "    # Adjusting date parameters for API call\n",
    "    startTime = str(int(startTime.timestamp()*1000))\n",
    "    endTime = str(int(endTime.timestamp()*1000))\n",
    "    \n",
    "    # Request dict\n",
    "    req_params = {\"symbol\" : symbol, \n",
    "                    \"interval\" : interval, \n",
    "                    \"startTime\" : startTime, \n",
    "                    \"endTime\" : endTime, \n",
    "                    \"limit\" : limit}\n",
    "\n",
    "    # Calling API\n",
    "    df = pd.DataFrame(json.loads(requests.get(url, params = req_params).text))\n",
    "    df = df.iloc[:, 0:6]\n",
    "    df.columns = [\"datetime\", \"open\", \"high\", \"low\", \"close\", \"volume\"]\n",
    "    df.index = [dt.datetime.fromtimestamp(x/1000.0) for x in df.datetime]\n",
    "    \n",
    "    return df\n"
   ]
  },
  {
   "cell_type": "code",
   "execution_count": 4,
   "id": "c8e100f8-0898-415b-9926-66689812b9ce",
   "metadata": {},
   "outputs": [
    {
     "data": {
      "text/plain": [
       "datetime.datetime(2020, 1, 1, 0, 0)"
      ]
     },
     "metadata": {},
     "output_type": "display_data"
    },
    {
     "data": {
      "text/plain": [
       "datetime.datetime(2022, 1, 1, 0, 0)"
      ]
     },
     "metadata": {},
     "output_type": "display_data"
    }
   ],
   "source": [
    "one_yr = 366\n",
    "two_yr = (one_yr*2)\n",
    "three_yr = (one_yr*3)\n",
    "\n",
    "# Generate list of dates for trading\n",
    "    \n",
    "trading_days = [(dt.datetime(2020,1,1) + dt.timedelta(days=i)) for i in range(two_yr)]\n",
    "\n",
    "# Start and end date of list\n",
    "display(trading_days[0])\n",
    "display(trading_days[-1])\n"
   ]
  },
  {
   "cell_type": "code",
   "execution_count": 5,
   "id": "7aeb9aab-3cff-49f0-874c-7eaf746f19df",
   "metadata": {
    "tags": []
   },
   "outputs": [],
   "source": [
    "# Generating CSVs, this will take a long time \n",
    "\n",
    "\n",
    "# Itterating through dates with get bar function\n",
    "df_btc = [get_bars(\"BTCUSDT\", \"5m\", trading_days[i], trading_days[i+1], \"1000\") for i in range(len(trading_days)-1)]\n",
    "\n",
    "# Concatting our dataframes's into one\n",
    "df_btc = pd.concat(df_btc)\n",
    "\n",
    "# Itterating through dates with get bar function\n",
    "df_eth = [get_bars(\"ETHUSDT\", \"5m\", trading_days[i], trading_days[i+1], \"1000\") for i in range(len(trading_days)-1)]\n",
    "\n",
    "# Concatting our dataframes's into one\n",
    "df_eth = pd.concat(df_eth)\n"
   ]
  },
  {
   "cell_type": "code",
   "execution_count": 6,
   "id": "9bff52e8-4aa2-4d39-9adc-319f5caf8d17",
   "metadata": {},
   "outputs": [],
   "source": [
    "# write df to csv\n",
    "df_btc.to_csv(path_or_buf = '2yr_btc.csv' )\n",
    "df_eth.to_csv(path_or_buf = '2yr_eth.csv' )"
   ]
  }
 ],
 "metadata": {
  "kernelspec": {
   "display_name": "Python 3 (ipykernel)",
   "language": "python",
   "name": "python3"
  },
  "language_info": {
   "codemirror_mode": {
    "name": "ipython",
    "version": 3
   },
   "file_extension": ".py",
   "mimetype": "text/x-python",
   "name": "python",
   "nbconvert_exporter": "python",
   "pygments_lexer": "ipython3",
   "version": "3.10.0"
  }
 },
 "nbformat": 4,
 "nbformat_minor": 5
}
